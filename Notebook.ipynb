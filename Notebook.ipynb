{
  "cells": [
    {
      "cell_type": "markdown",
      "metadata": {
        "id": "UpUXB3DBQJ4J"
      },
      "source": [
        "# Modelos predictivos de aceptación de tarjeta de crédito"
      ]
    },
    {
      "cell_type": "markdown",
      "metadata": {
        "id": "L5oBDQLKaHeR"
      },
      "source": [
        "En este proyecto, abordo el desafío de desarrollar modelos predictivos para determinar la aceptación de una oferta de tarjeta de crédito por parte de los clientes. Para este propósito, exploré tres modelos de clasificación ampliamente reconocidos: árboles de decisión, XGBoost (extreme gradient boosting = refuerzo de gradientes extremo) y ExtraTrees (extremely random trees = árboles extremadamente aleatorios) y regresión logistica. Utilizando la técnica de validación cruzada con k-fold split, dividí mis datos de entrenamiento en 5 conjuntos para obtener una evaluación más sólida del rendimiento de cada modelo. Esto me permitirá realizar comparaciones significativas y seleccionar el modelo óptimo para mi análisis. A lo largo de este estudio, evaluaré la precisión, recuperación y puntuación F1 de cada modelo, con el objetivo de identificar la mejor opción para comprender y predecir el comportamiento de los clientes en relación con las ofertas de tarjetas de crédito"
      ]
    },
    {
      "cell_type": "markdown",
      "metadata": {
        "id": "7KJ8XQAm0njY"
      },
      "source": [
        "## Realizando un EDA (Analisis exploratorio de los datos)"
      ]
    },
    {
      "cell_type": "code",
      "execution_count": 64,
      "metadata": {
        "id": "85m_5ExxGJfo"
      },
      "outputs": [],
      "source": [
        "# Importamos los modulos necesarios\n",
        "import pandas as pd \n",
        "from sklearn.model_selection import train_test_split \n",
        "from sklearn.preprocessing import LabelEncoder \n",
        "from sklearn.ensemble import RandomForestClassifier"
      ]
    },
    {
      "cell_type": "code",
      "execution_count": 65,
      "metadata": {
        "colab": {
          "base_uri": "https://localhost:8080/",
          "height": 903
        },
        "id": "8tiukucUKf4y",
        "outputId": "7b42246a-976a-4207-f6a4-4dbb5d905019"
      },
      "outputs": [
        {
          "name": "stdout",
          "output_type": "stream",
          "text": [
            "Información de los datos de entrenamiento:\n",
            "<class 'pandas.core.frame.DataFrame'>\n",
            "RangeIndex: 23099 entries, 0 to 23098\n",
            "Data columns (total 21 columns):\n",
            " #   Column              Non-Null Count  Dtype  \n",
            "---  ------              --------------  -----  \n",
            " 0   ID                  23099 non-null  int64  \n",
            " 1   Edad                23099 non-null  int64  \n",
            " 2   Tipo_Trabajo        23099 non-null  object \n",
            " 3   Estado_Civil        23099 non-null  object \n",
            " 4   Educacion           23099 non-null  object \n",
            " 5   mora                23099 non-null  object \n",
            " 6   Vivienda            23099 non-null  object \n",
            " 7   Consumo             23099 non-null  object \n",
            " 8   Contacto            23099 non-null  object \n",
            " 9   Mes                 23099 non-null  object \n",
            " 10  Dia                 23099 non-null  object \n",
            " 11  Campana             23099 non-null  int64  \n",
            " 12  Dias_Ultima_Camp    23099 non-null  int64  \n",
            " 13  No_Contactos        23099 non-null  int64  \n",
            " 14  Resultado_Anterior  23099 non-null  object \n",
            " 15  emp_var_rate        23099 non-null  float64\n",
            " 16  cons_price_idx      23099 non-null  float64\n",
            " 17  cons_conf_idx       23099 non-null  float64\n",
            " 18  euribor3m           23099 non-null  float64\n",
            " 19  nr_employed         23099 non-null  float64\n",
            " 20  y                   23099 non-null  int64  \n",
            "dtypes: float64(5), int64(6), object(10)\n",
            "memory usage: 3.7+ MB\n",
            "\n",
            "Primeras filas de los datos de entrenamiento:\n"
          ]
        },
        {
          "data": {
            "text/html": [
              "<div>\n",
              "<style scoped>\n",
              "    .dataframe tbody tr th:only-of-type {\n",
              "        vertical-align: middle;\n",
              "    }\n",
              "\n",
              "    .dataframe tbody tr th {\n",
              "        vertical-align: top;\n",
              "    }\n",
              "\n",
              "    .dataframe thead th {\n",
              "        text-align: right;\n",
              "    }\n",
              "</style>\n",
              "<table border=\"1\" class=\"dataframe\">\n",
              "  <thead>\n",
              "    <tr style=\"text-align: right;\">\n",
              "      <th></th>\n",
              "      <th>ID</th>\n",
              "      <th>Edad</th>\n",
              "      <th>Tipo_Trabajo</th>\n",
              "      <th>Estado_Civil</th>\n",
              "      <th>Educacion</th>\n",
              "      <th>mora</th>\n",
              "      <th>Vivienda</th>\n",
              "      <th>Consumo</th>\n",
              "      <th>Contacto</th>\n",
              "      <th>Mes</th>\n",
              "      <th>...</th>\n",
              "      <th>Campana</th>\n",
              "      <th>Dias_Ultima_Camp</th>\n",
              "      <th>No_Contactos</th>\n",
              "      <th>Resultado_Anterior</th>\n",
              "      <th>emp_var_rate</th>\n",
              "      <th>cons_price_idx</th>\n",
              "      <th>cons_conf_idx</th>\n",
              "      <th>euribor3m</th>\n",
              "      <th>nr_employed</th>\n",
              "      <th>y</th>\n",
              "    </tr>\n",
              "  </thead>\n",
              "  <tbody>\n",
              "    <tr>\n",
              "      <th>0</th>\n",
              "      <td>1</td>\n",
              "      <td>57</td>\n",
              "      <td>servicios</td>\n",
              "      <td>casado</td>\n",
              "      <td>bachillerato</td>\n",
              "      <td>unknown</td>\n",
              "      <td>no</td>\n",
              "      <td>no</td>\n",
              "      <td>telefono fijo</td>\n",
              "      <td>may</td>\n",
              "      <td>...</td>\n",
              "      <td>1</td>\n",
              "      <td>999</td>\n",
              "      <td>0</td>\n",
              "      <td>sin contacto</td>\n",
              "      <td>1.1</td>\n",
              "      <td>93994.0</td>\n",
              "      <td>-36.4</td>\n",
              "      <td>4857.0</td>\n",
              "      <td>5191.0</td>\n",
              "      <td>0</td>\n",
              "    </tr>\n",
              "    <tr>\n",
              "      <th>1</th>\n",
              "      <td>2</td>\n",
              "      <td>37</td>\n",
              "      <td>servicios</td>\n",
              "      <td>casado</td>\n",
              "      <td>bachillerato</td>\n",
              "      <td>no</td>\n",
              "      <td>si</td>\n",
              "      <td>no</td>\n",
              "      <td>telefono fijo</td>\n",
              "      <td>may</td>\n",
              "      <td>...</td>\n",
              "      <td>1</td>\n",
              "      <td>999</td>\n",
              "      <td>0</td>\n",
              "      <td>sin contacto</td>\n",
              "      <td>1.1</td>\n",
              "      <td>93994.0</td>\n",
              "      <td>-36.4</td>\n",
              "      <td>4857.0</td>\n",
              "      <td>5191.0</td>\n",
              "      <td>0</td>\n",
              "    </tr>\n",
              "    <tr>\n",
              "      <th>2</th>\n",
              "      <td>3</td>\n",
              "      <td>40</td>\n",
              "      <td>administrador negocio</td>\n",
              "      <td>casado</td>\n",
              "      <td>primaria</td>\n",
              "      <td>no</td>\n",
              "      <td>no</td>\n",
              "      <td>no</td>\n",
              "      <td>telefono fijo</td>\n",
              "      <td>may</td>\n",
              "      <td>...</td>\n",
              "      <td>1</td>\n",
              "      <td>999</td>\n",
              "      <td>0</td>\n",
              "      <td>sin contacto</td>\n",
              "      <td>1.1</td>\n",
              "      <td>93994.0</td>\n",
              "      <td>-36.4</td>\n",
              "      <td>4857.0</td>\n",
              "      <td>5191.0</td>\n",
              "      <td>0</td>\n",
              "    </tr>\n",
              "    <tr>\n",
              "      <th>3</th>\n",
              "      <td>4</td>\n",
              "      <td>56</td>\n",
              "      <td>servicios</td>\n",
              "      <td>casado</td>\n",
              "      <td>bachillerato</td>\n",
              "      <td>no</td>\n",
              "      <td>no</td>\n",
              "      <td>si</td>\n",
              "      <td>telefono fijo</td>\n",
              "      <td>may</td>\n",
              "      <td>...</td>\n",
              "      <td>1</td>\n",
              "      <td>999</td>\n",
              "      <td>0</td>\n",
              "      <td>sin contacto</td>\n",
              "      <td>1.1</td>\n",
              "      <td>93994.0</td>\n",
              "      <td>-36.4</td>\n",
              "      <td>4857.0</td>\n",
              "      <td>5191.0</td>\n",
              "      <td>0</td>\n",
              "    </tr>\n",
              "    <tr>\n",
              "      <th>4</th>\n",
              "      <td>7</td>\n",
              "      <td>25</td>\n",
              "      <td>servicios</td>\n",
              "      <td>single</td>\n",
              "      <td>bachillerato</td>\n",
              "      <td>no</td>\n",
              "      <td>si</td>\n",
              "      <td>no</td>\n",
              "      <td>telefono fijo</td>\n",
              "      <td>may</td>\n",
              "      <td>...</td>\n",
              "      <td>1</td>\n",
              "      <td>999</td>\n",
              "      <td>0</td>\n",
              "      <td>sin contacto</td>\n",
              "      <td>1.1</td>\n",
              "      <td>93994.0</td>\n",
              "      <td>-36.4</td>\n",
              "      <td>4857.0</td>\n",
              "      <td>5191.0</td>\n",
              "      <td>0</td>\n",
              "    </tr>\n",
              "  </tbody>\n",
              "</table>\n",
              "<p>5 rows × 21 columns</p>\n",
              "</div>"
            ],
            "text/plain": [
              "   ID  Edad           Tipo_Trabajo Estado_Civil     Educacion     mora  \\\n",
              "0   1    57              servicios       casado  bachillerato  unknown   \n",
              "1   2    37              servicios       casado  bachillerato       no   \n",
              "2   3    40  administrador negocio       casado      primaria       no   \n",
              "3   4    56              servicios       casado  bachillerato       no   \n",
              "4   7    25              servicios       single  bachillerato       no   \n",
              "\n",
              "  Vivienda Consumo       Contacto  Mes  ... Campana  Dias_Ultima_Camp  \\\n",
              "0       no      no  telefono fijo  may  ...       1               999   \n",
              "1       si      no  telefono fijo  may  ...       1               999   \n",
              "2       no      no  telefono fijo  may  ...       1               999   \n",
              "3       no      si  telefono fijo  may  ...       1               999   \n",
              "4       si      no  telefono fijo  may  ...       1               999   \n",
              "\n",
              "   No_Contactos  Resultado_Anterior emp_var_rate  cons_price_idx  \\\n",
              "0             0        sin contacto          1.1         93994.0   \n",
              "1             0        sin contacto          1.1         93994.0   \n",
              "2             0        sin contacto          1.1         93994.0   \n",
              "3             0        sin contacto          1.1         93994.0   \n",
              "4             0        sin contacto          1.1         93994.0   \n",
              "\n",
              "   cons_conf_idx  euribor3m  nr_employed  y  \n",
              "0          -36.4     4857.0       5191.0  0  \n",
              "1          -36.4     4857.0       5191.0  0  \n",
              "2          -36.4     4857.0       5191.0  0  \n",
              "3          -36.4     4857.0       5191.0  0  \n",
              "4          -36.4     4857.0       5191.0  0  \n",
              "\n",
              "[5 rows x 21 columns]"
            ]
          },
          "execution_count": 65,
          "metadata": {},
          "output_type": "execute_result"
        }
      ],
      "source": [
        "# Cargar los datos de entrenamiento\n",
        "train_data = pd.read_csv('../data/insumo/train.csv')\n",
        "train_data_v2 = pd.read_csv('../data/insumo/train.csv')\n",
        "\n",
        "# Explorar los datos de entrenamiento\n",
        "print(\"Información de los datos de entrenamiento:\")\n",
        "train_data.info()\n",
        "print(\"\\nPrimeras filas de los datos de entrenamiento:\")\n",
        "train_data.head()"
      ]
    },
    {
      "cell_type": "code",
      "execution_count": 66,
      "metadata": {
        "colab": {
          "base_uri": "https://localhost:8080/",
          "height": 320
        },
        "id": "ybFDCNTCGoJ2",
        "outputId": "dbd4388e-74b3-4ed8-daf2-dd3dad08e43f"
      },
      "outputs": [
        {
          "data": {
            "text/html": [
              "<div>\n",
              "<style scoped>\n",
              "    .dataframe tbody tr th:only-of-type {\n",
              "        vertical-align: middle;\n",
              "    }\n",
              "\n",
              "    .dataframe tbody tr th {\n",
              "        vertical-align: top;\n",
              "    }\n",
              "\n",
              "    .dataframe thead th {\n",
              "        text-align: right;\n",
              "    }\n",
              "</style>\n",
              "<table border=\"1\" class=\"dataframe\">\n",
              "  <thead>\n",
              "    <tr style=\"text-align: right;\">\n",
              "      <th></th>\n",
              "      <th>ID</th>\n",
              "      <th>Edad</th>\n",
              "      <th>Campana</th>\n",
              "      <th>Dias_Ultima_Camp</th>\n",
              "      <th>No_Contactos</th>\n",
              "      <th>emp_var_rate</th>\n",
              "      <th>cons_price_idx</th>\n",
              "      <th>cons_conf_idx</th>\n",
              "      <th>euribor3m</th>\n",
              "      <th>nr_employed</th>\n",
              "      <th>y</th>\n",
              "    </tr>\n",
              "  </thead>\n",
              "  <tbody>\n",
              "    <tr>\n",
              "      <th>count</th>\n",
              "      <td>23099.000000</td>\n",
              "      <td>23099.000000</td>\n",
              "      <td>23099.000000</td>\n",
              "      <td>23099.000000</td>\n",
              "      <td>23099.000000</td>\n",
              "      <td>23099.000000</td>\n",
              "      <td>23099.000000</td>\n",
              "      <td>23099.000000</td>\n",
              "      <td>23099.000000</td>\n",
              "      <td>23099.000000</td>\n",
              "      <td>23099.000000</td>\n",
              "    </tr>\n",
              "    <tr>\n",
              "      <th>mean</th>\n",
              "      <td>16420.136499</td>\n",
              "      <td>40.067665</td>\n",
              "      <td>2.560154</td>\n",
              "      <td>962.976060</td>\n",
              "      <td>0.171003</td>\n",
              "      <td>0.095649</td>\n",
              "      <td>85576.471847</td>\n",
              "      <td>-40.485237</td>\n",
              "      <td>3190.939789</td>\n",
              "      <td>5167.329439</td>\n",
              "      <td>0.112126</td>\n",
              "    </tr>\n",
              "    <tr>\n",
              "      <th>std</th>\n",
              "      <td>9521.074915</td>\n",
              "      <td>10.449983</td>\n",
              "      <td>2.756954</td>\n",
              "      <td>185.675409</td>\n",
              "      <td>0.494079</td>\n",
              "      <td>1.565650</td>\n",
              "      <td>26224.436234</td>\n",
              "      <td>4.629643</td>\n",
              "      <td>2088.703058</td>\n",
              "      <td>72.260805</td>\n",
              "      <td>0.315528</td>\n",
              "    </tr>\n",
              "    <tr>\n",
              "      <th>min</th>\n",
              "      <td>1.000000</td>\n",
              "      <td>18.000000</td>\n",
              "      <td>1.000000</td>\n",
              "      <td>0.000000</td>\n",
              "      <td>0.000000</td>\n",
              "      <td>-3.400000</td>\n",
              "      <td>93.200000</td>\n",
              "      <td>-50.800000</td>\n",
              "      <td>0.634000</td>\n",
              "      <td>4963.600000</td>\n",
              "      <td>0.000000</td>\n",
              "    </tr>\n",
              "    <tr>\n",
              "      <th>25%</th>\n",
              "      <td>8158.000000</td>\n",
              "      <td>32.000000</td>\n",
              "      <td>1.000000</td>\n",
              "      <td>999.000000</td>\n",
              "      <td>0.000000</td>\n",
              "      <td>-1.800000</td>\n",
              "      <td>92893.000000</td>\n",
              "      <td>-42.700000</td>\n",
              "      <td>1281.000000</td>\n",
              "      <td>5099.100000</td>\n",
              "      <td>0.000000</td>\n",
              "    </tr>\n",
              "    <tr>\n",
              "      <th>50%</th>\n",
              "      <td>16375.000000</td>\n",
              "      <td>38.000000</td>\n",
              "      <td>2.000000</td>\n",
              "      <td>999.000000</td>\n",
              "      <td>0.000000</td>\n",
              "      <td>1.100000</td>\n",
              "      <td>93876.000000</td>\n",
              "      <td>-41.800000</td>\n",
              "      <td>4856.000000</td>\n",
              "      <td>5191.000000</td>\n",
              "      <td>0.000000</td>\n",
              "    </tr>\n",
              "    <tr>\n",
              "      <th>75%</th>\n",
              "      <td>24644.500000</td>\n",
              "      <td>47.000000</td>\n",
              "      <td>3.000000</td>\n",
              "      <td>999.000000</td>\n",
              "      <td>0.000000</td>\n",
              "      <td>1.400000</td>\n",
              "      <td>93994.000000</td>\n",
              "      <td>-36.400000</td>\n",
              "      <td>4961.000000</td>\n",
              "      <td>5228.100000</td>\n",
              "      <td>0.000000</td>\n",
              "    </tr>\n",
              "    <tr>\n",
              "      <th>max</th>\n",
              "      <td>32967.000000</td>\n",
              "      <td>95.000000</td>\n",
              "      <td>42.000000</td>\n",
              "      <td>999.000000</td>\n",
              "      <td>6.000000</td>\n",
              "      <td>1.400000</td>\n",
              "      <td>94767.000000</td>\n",
              "      <td>-26.900000</td>\n",
              "      <td>5045.000000</td>\n",
              "      <td>5228.100000</td>\n",
              "      <td>1.000000</td>\n",
              "    </tr>\n",
              "  </tbody>\n",
              "</table>\n",
              "</div>"
            ],
            "text/plain": [
              "                 ID          Edad       Campana  Dias_Ultima_Camp  \\\n",
              "count  23099.000000  23099.000000  23099.000000      23099.000000   \n",
              "mean   16420.136499     40.067665      2.560154        962.976060   \n",
              "std     9521.074915     10.449983      2.756954        185.675409   \n",
              "min        1.000000     18.000000      1.000000          0.000000   \n",
              "25%     8158.000000     32.000000      1.000000        999.000000   \n",
              "50%    16375.000000     38.000000      2.000000        999.000000   \n",
              "75%    24644.500000     47.000000      3.000000        999.000000   \n",
              "max    32967.000000     95.000000     42.000000        999.000000   \n",
              "\n",
              "       No_Contactos  emp_var_rate  cons_price_idx  cons_conf_idx  \\\n",
              "count  23099.000000  23099.000000    23099.000000   23099.000000   \n",
              "mean       0.171003      0.095649    85576.471847     -40.485237   \n",
              "std        0.494079      1.565650    26224.436234       4.629643   \n",
              "min        0.000000     -3.400000       93.200000     -50.800000   \n",
              "25%        0.000000     -1.800000    92893.000000     -42.700000   \n",
              "50%        0.000000      1.100000    93876.000000     -41.800000   \n",
              "75%        0.000000      1.400000    93994.000000     -36.400000   \n",
              "max        6.000000      1.400000    94767.000000     -26.900000   \n",
              "\n",
              "          euribor3m   nr_employed             y  \n",
              "count  23099.000000  23099.000000  23099.000000  \n",
              "mean    3190.939789   5167.329439      0.112126  \n",
              "std     2088.703058     72.260805      0.315528  \n",
              "min        0.634000   4963.600000      0.000000  \n",
              "25%     1281.000000   5099.100000      0.000000  \n",
              "50%     4856.000000   5191.000000      0.000000  \n",
              "75%     4961.000000   5228.100000      0.000000  \n",
              "max     5045.000000   5228.100000      1.000000  "
            ]
          },
          "execution_count": 66,
          "metadata": {},
          "output_type": "execute_result"
        }
      ],
      "source": [
        "train_data.describe()"
      ]
    },
    {
      "cell_type": "markdown",
      "metadata": {
        "id": "P2EkxzsY09Wt"
      },
      "source": [
        "Las estadísticas descriptivas del conjunto de entrenamiento revelan que la edad promedio de los clientes es de alrededor de 40 años, con una distribución relativamente uniforme. La cantidad promedio de contactos durante la campaña actual es aproximadamente 2.6, con alta variabilidad. La mayoría de los clientes fueron contactados en los últimos días de la campaña anterior, pero la variabilidad es alta. La mayoría de los clientes no fueron contactados previamente, pero algunos fueron contactados múltiples veces. Las variables económicas muestran variabilidad, y la variable objetivo refleja un desequilibrio con la mayoría de los clientes que no aceptaron la oferta de tarjeta de crédito."
      ]
    },
    {
      "cell_type": "markdown",
      "metadata": {
        "id": "xn9FP8h88lYh"
      },
      "source": [
        "**Columnas de nuestro conjunto de datos:**\n",
        "\n",
        "---\n",
        "\n",
        "\n",
        "* **ID**: Identificación única de cada entrada en el conjunto de datos.\n",
        "* **Edad**: La edad del individuo al que corresponde la entrada.\n",
        "\n",
        "* **Tipo_Trabajo**: Código que indica el tipo de trabajo del individuo.\n",
        "* **Estado_Civil**: Código que representa el estado civil del individuo.\n",
        "* **Educacion**: Nivel educativo del individuo codificado.\n",
        "* **Mora**: Indicador de morosidad financiera del individuo.\n",
        "* **Vivienda**: Tipo de vivienda del individuo.\n",
        "* **Consumo**: Código que describe el nivel de consumo del individuo.\n",
        "* **Contacto**: Código que indica el tipo de contacto realizado.\n",
        "* **Mes**: Mes en el que se realizó el contacto.\n",
        "* **Dia**: Día de la semana en el que se realizó el contacto.\n",
        "* **Campana**: Código de la campaña de marketing.\n",
        "* **Dias_Ultima_Camp**: Días transcurridos desde el último contacto de la campaña anterior.\n",
        "* **No_Contactos**: Número de contactos realizados durante esta campaña.\n",
        "* **Resultado_Anterior**: Resultado del contacto anterior.\n",
        "* **emp_var_rate**: Tasa de variación del empleo.\n",
        "* **cons_price_idx**: Índice de precios al consumidor.\n",
        "* **cons_conf_idx**: Índice de confianza del consumidor.\n",
        "* **euribor3m**: Tasa EURIBOR a tres meses.\n",
        "* **nr_employed**: Número de empleados.\n",
        "\n",
        "\n",
        "---\n"
      ]
    },
    {
      "cell_type": "markdown",
      "metadata": {
        "id": "H5QQs0dv3DZQ"
      },
      "source": [
        "### Graficas respresentativas"
      ]
    },
    {
      "cell_type": "markdown",
      "metadata": {
        "id": "7Fi2Ld1e3Ldi"
      },
      "source": [
        "Utilice las graficas mas representativas de nuestros datos para comprender mejor la distribución de ellos, como por ejemplo la edad vs la frecuencia, la distribución de la variable objetivo y la dispersión de la variable objetivo según la edad."
      ]
    },
    {
      "cell_type": "code",
      "execution_count": 67,
      "metadata": {
        "colab": {
          "base_uri": "https://localhost:8080/",
          "height": 1000
        },
        "id": "BW8RqBGrJhL1",
        "outputId": "f3ad4819-5f00-43af-d38f-6ad11b4b83dc"
      },
      "outputs": [
        {
          "data": {
            "image/png": "[encoded data removed]",
            "text/plain": [
              "<Figure size 800x600 with 1 Axes>"
            ]
          },
          "metadata": {},
          "output_type": "display_data"
        },
        {
          "data": {
            "image/png": "[encoded data removed]",
            "text/plain": [
              "<Figure size 800x600 with 1 Axes>"
            ]
          },
          "metadata": {},
          "output_type": "display_data"
        },
        {
          "data": {
            "image/png": "[encoded data removed]",
            "text/plain": [
              "<Figure size 800x600 with 1 Axes>"
            ]
          },
          "metadata": {},
          "output_type": "display_data"
        }
      ],
      "source": [
        "import matplotlib.pyplot as plt\n",
        "import seaborn as sns\n",
        "\n",
        "# Histograma de Edad\n",
        "plt.figure(figsize=(8, 6))\n",
        "sns.histplot(data=train_data, x='Edad', bins=30, kde=True, color='skyblue')\n",
        "plt.title('Distribución de Edad')\n",
        "plt.xlabel('Edad')\n",
        "plt.ylabel('Frecuencia')\n",
        "plt.show()\n",
        "\n",
        "# Histograma de la Variable Objetivo (y)\n",
        "plt.figure(figsize=(8, 6))\n",
        "sns.countplot(data=train_data, x='y', hue='y', palette='Set1')\n",
        "plt.title('Distribución de la Variable Objetivo')\n",
        "plt.xlabel('Variable Objetivo (y)')\n",
        "plt.ylabel('Frecuencia')\n",
        "plt.show()\n",
        "\n",
        "# Diagrama de Dispersión (Edad vs. Variable Objetivo)\n",
        "plt.figure(figsize=(8, 6))\n",
        "sns.scatterplot(data=train_data, x='Edad', y='y', hue='y', palette='coolwarm')\n",
        "plt.title('Diagrama de Dispersión de Edad vs. Variable Objetivo')\n",
        "plt.xlabel('Edad')\n",
        "plt.ylabel('Variable Objetivo (y)')\n",
        "plt.legend(title='Variable Objetivo')\n",
        "plt.show()"
      ]
    },
    {
      "cell_type": "markdown",
      "metadata": {
        "id": "3kfWDwFx3l7w"
      },
      "source": [
        "## Preparación y entrenamiento de los modelos"
      ]
    },
    {
      "cell_type": "markdown",
      "metadata": {
        "id": "XleSBrEi3x6Y"
      },
      "source": [
        "\n",
        "Usamos el label encoding para convertir nuestras variables categóricas en números, lo que permite a los algoritmos de aprendizaje automático procesar los datos de manera efectiva. Esto es necesario porque muchos algoritmos prefieren entradas numéricas para funcionar correctamente.\n"
      ]
    },
    {
      "cell_type": "code",
      "execution_count": 68,
      "metadata": {
        "id": "AHufFew5KibR"
      },
      "outputs": [],
      "source": [
        "# Codificar variables categóricas en los datos de entrenamiento\n",
        "label_encoder = LabelEncoder()\n",
        "categorical_columns = ['Tipo_Trabajo', 'Estado_Civil', 'Educacion', 'mora', 'Vivienda', 'Consumo', 'Contacto', 'Mes', 'Dia', 'Resultado_Anterior']\n",
        "for column in categorical_columns:\n",
        "    train_data[column] = label_encoder.fit_transform(train_data[column])\n",
        "\n",
        "# Separar características y variable objetivo en los datos de entrenamiento\n",
        "X = train_data.drop(['y','ID'], axis=1)\n",
        "y = train_data['y']"
      ]
    },
    {
      "cell_type": "markdown",
      "metadata": {
        "id": "_zVUgeYx5wsM"
      },
      "source": [
        "De igual manera separamos un conjunto de datos de entrenamiento con las variables categoricas para analizar comparaciones."
      ]
    },
    {
      "cell_type": "code",
      "execution_count": 69,
      "metadata": {
        "id": "cvsfznB197-W"
      },
      "outputs": [],
      "source": [
        "train_data_v2\n",
        "# Separar características y variable objetivo en los datos de entrenamiento\n",
        "X_v2 = train_data_v2.drop(['y','ID'], axis=1)\n",
        "y_v2 = train_data_v2['y']\n",
        "\n",
        "to_cats = [\"Tipo_Trabajo\", \"Estado_Civil\", \"Educacion\", \"mora\", \"Vivienda\", \"Consumo\", \"Contacto\", \"Mes\", \"Dia\", \"Resultado_Anterior\"]\n",
        "for to_cat in to_cats:\n",
        "    X_v2[to_cat] = X_v2[to_cat].astype(\"category\")"
      ]
    },
    {
      "cell_type": "markdown",
      "metadata": {
        "id": "1O1CUhxp8MZp"
      },
      "source": [
        "### Aplicación del metodo k-folds cross validation"
      ]
    },
    {
      "cell_type": "markdown",
      "metadata": {
        "id": "kciT-Izl8qI7"
      },
      "source": [
        "El K-fold cross validation es una técnica utilizada para evaluar el rendimiento de un modelo de machine learning. Consiste en dividir el conjunto de datos en K partes iguales llamadas \"folds\". Luego, el modelo se entrena K veces, cada vez utilizando una de las partes como conjunto de validación y el resto como conjunto de entrenamiento. De esta manera, se obtienen K estimaciones del rendimiento del modelo, que luego se promedian para obtener una métrica de rendimiento general. En el caso de Stratified K-fold, se asegura que la proporción de clases se mantenga constante en cada fold, lo que es especialmente útil cuando hay un desequilibrio en las clases objetivo. Esto proporciona una evaluación más robusta del modelo al utilizar múltiples particiones de los datos para entrenar y evaluar el modelo."
      ]
    },
    {
      "cell_type": "code",
      "execution_count": 70,
      "metadata": {
        "colab": {
          "base_uri": "https://localhost:8080/"
        },
        "id": "Bta5-LI2PAoZ",
        "outputId": "4c465139-3255-4e87-afd2-49bea5882ebd"
      },
      "outputs": [
        {
          "name": "stdout",
          "output_type": "stream",
          "text": [
            "Fold 1\n",
            "Training instances: 18479\n",
            "Validation instances: 4620\n",
            "Fold 2\n",
            "Training instances: 18479\n",
            "Validation instances: 4620\n",
            "Fold 3\n",
            "Training instances: 18479\n",
            "Validation instances: 4620\n",
            "Fold 4\n",
            "Training instances: 18479\n",
            "Validation instances: 4620\n",
            "Fold 5\n",
            "Training instances: 18480\n",
            "Validation instances: 4619\n"
          ]
        }
      ],
      "source": [
        "from sklearn.model_selection import StratifiedKFold\n",
        "\n",
        "# Usando StratifiedKFold para dividir los datos en 5 splits\n",
        "kf = StratifiedKFold(n_splits=5, shuffle=True, random_state=42)\n",
        "splits = kf.split(X, y)\n",
        "\n",
        "# Crear los splits y mostrar los tamaños de cada fold\n",
        "fold_num = 1\n",
        "for train_index, val_index in splits:\n",
        "    X_train, X_val = X.iloc[train_index], X.iloc[val_index]\n",
        "    y_train, y_val = y.iloc[train_index], y.iloc[val_index]\n",
        "\n",
        "    print(\"Fold\", fold_num)\n",
        "    print(\"Training instances:\", len(X_train))\n",
        "    print(\"Validation instances:\", len(X_val))\n",
        "    fold_num += 1\n"
      ]
    },
    {
      "cell_type": "markdown",
      "metadata": {
        "id": "QGAw52MQ8vtC"
      },
      "source": [
        "### Modelo Random Forest"
      ]
    },
    {
      "cell_type": "markdown",
      "metadata": {
        "id": "oxEewYaT-FPW"
      },
      "source": [
        "Se utilizo el modelo Random Forest para predecir si los clientes aceptarían una tarjeta de crédito. Ajuste el modelo con 150 árboles de decisión, limitando la profundidad de cada árbol a 15 niveles y estableciendo los criterios para dividir nodos en 8 muestras mínimas por división y 2 muestras mínimas por hoja. Se evaluo su desempeño utilizando validación cruzada y calculamos métricas como precisión, recall y F1-score para medir su rendimiento promedio"
      ]
    },
    {
      "cell_type": "code",
      "execution_count": 71,
      "metadata": {
        "id": "stcnBtw1Tcoa"
      },
      "outputs": [
        {
          "name": "stdout",
          "output_type": "stream",
          "text": [
            "Precisión Promedio: 0.6274024167791368\n",
            "Recall Promedio: 0.2579150579150579\n",
            "F1-score Promedio: 0.36530129312319637\n"
          ]
        }
      ],
      "source": [
        "from sklearn.ensemble import RandomForestClassifier\n",
        "from sklearn.metrics import precision_score, recall_score, f1_score\n",
        "\n",
        "# Usando KFold para dividir los datos en 5 splits\n",
        "kf = StratifiedKFold(n_splits=5, shuffle=True, random_state=42)\n",
        "splits = kf.split(X, y=y)\n",
        "\n",
        "# Inicializar listas para almacenar las métricas\n",
        "precisions = []\n",
        "recalls = []\n",
        "f1_scores = []\n",
        "\n",
        "rfc = RandomForestClassifier(n_estimators=150, max_depth=15, min_samples_split=8, min_samples_leaf=2, random_state=42)\n",
        "\n",
        "# Accede a los índices de formación y validación de splits.\n",
        "for train_index, val_index in splits:\n",
        "    # Configurar los datos de entrenamiento y validación.\n",
        "    X_train, y_train = X.iloc[train_index], y.iloc[train_index]\n",
        "    X_val, y_val = X.iloc[val_index], y.iloc[val_index]\n",
        "\n",
        "    # Ajustar el modelo de random forest\n",
        "    rfc.fit(X_train, y_train)\n",
        "\n",
        "    # Realizar predicciones\n",
        "    predictions = rfc.predict(X_val)\n",
        "\n",
        "    # Calcular precisión, recall y f1-score\n",
        "    precision = precision_score(y_val, predictions)\n",
        "    recall = recall_score(y_val, predictions)\n",
        "    f1 = f1_score(y_true=y_val, y_pred=predictions)\n",
        "\n",
        "    # Agregar métricas a las listas\n",
        "    precisions.append(precision)\n",
        "    recalls.append(recall)\n",
        "    f1_scores.append(f1)\n",
        "\n",
        "# Calcular métricas promedio\n",
        "avg_precision = sum(precisions) / len(precisions)\n",
        "avg_recall = sum(recalls) / len(recalls)\n",
        "avg_f1 = sum(f1_scores) / len(f1_scores)\n",
        "\n",
        "# Imprimir métricas promedio\n",
        "print(\"Precisión Promedio:\", avg_precision)\n",
        "print(\"Recall Promedio:\", avg_recall)\n",
        "print(\"F1-score Promedio:\", avg_f1)"
      ]
    },
    {
      "cell_type": "markdown",
      "metadata": {
        "id": "6foXRGNhAqz4"
      },
      "source": [
        "El modelo obtuvo una precisión promedio del 62% pero calculada manualmente y no con la validación cruzada como hicimos seguidamente. El recall promedio fue del 26%, lo que sugiere que el modelo identificó correctamente una cuarta parte de los casos positivos. El F1-score promedio, que combina precisión y recall, fue del 37%, indicando un equilibrio entre ambas métricas."
      ]
    },
    {
      "cell_type": "code",
      "execution_count": 72,
      "metadata": {
        "colab": {
          "base_uri": "https://localhost:8080/"
        },
        "id": "nan8aW1KYhy5",
        "outputId": "07237de2-5ee1-4588-b301-316041c8313a"
      },
      "outputs": [
        {
          "name": "stdout",
          "output_type": "stream",
          "text": [
            "Mean Accuracy: 0.899519470210096\n",
            "Mean Recall: 0.2579150579150579\n",
            "Mean F1-score: 0.36530129312319637\n"
          ]
        }
      ],
      "source": [
        "from sklearn.model_selection import cross_validate\n",
        "from sklearn.ensemble import RandomForestClassifier\n",
        "from sklearn.metrics import make_scorer, accuracy_score, recall_score, f1_score\n",
        "\n",
        "# Crear el clasificador RandomForestClassifier\n",
        "rfc = RandomForestClassifier(n_estimators=150, max_depth=15, min_samples_split=8, min_samples_leaf=2, random_state=42)\n",
        "\n",
        "# Definir las métricas que deseas evaluar durante la validación cruzada\n",
        "scoring = {\n",
        "    'accuracy': make_scorer(accuracy_score),\n",
        "    'recall': make_scorer(recall_score),\n",
        "    'f1_score': make_scorer(f1_score)\n",
        "}\n",
        "\n",
        "# Realizar la validación cruzada con las métricas especificadas\n",
        "cv_results = cross_validate(estimator=rfc, X=X, y=y, cv=kf, scoring=scoring)\n",
        "\n",
        "# Imprimir los resultados de la validación cruzada\n",
        "print(\"Mean Accuracy:\", cv_results['test_accuracy'].mean())\n",
        "print(\"Mean Recall:\", cv_results['test_recall'].mean())\n",
        "print(\"Mean F1-score:\", cv_results['test_f1_score'].mean())"
      ]
    },
    {
      "cell_type": "markdown",
      "metadata": {
        "id": "5cgNElOqJcbt"
      },
      "source": [
        "Al aplicar la validación cruzada, observamos un alto nivel de precisión promedio del 89.9%, lo que indica que el modelo es altamente preciso en la clasificación de los clientes. Aunque el recall y el F1-score son moderados (26.1% y 36.7% respectivamente) lo que se mantiene con los anteriores resultados. El hecho de que la precisión sea alta sugiere que el modelo logra identificar con éxito la mayoría de las instancias positivas mientras mantiene un bajo número de falsos positivos. Esto es una señal de que el modelo es efectivo en la tarea de predecir si los clientes aceptarán o no una tarjeta de crédito."
      ]
    },
    {
      "cell_type": "markdown",
      "metadata": {
        "id": "CLxuuOujM36Q"
      },
      "source": [
        "### Modelo XGBoost"
      ]
    },
    {
      "cell_type": "markdown",
      "metadata": {
        "id": "I7ENteKTeltt"
      },
      "source": [
        "\n",
        "El XGBoost es un algoritmo de aprendizaje automático popular conocido por su eficacia en la clasificación de conjuntos de datos grandes y complejos gracias a la tecnica del descenso del gradiente. En este caso, se utiliza como clasificador para nuestro problema de predecir si los clientes aceptarán una tarjeta de crédito. El modelo sigue las consideraciones del modelo anteior usando la validación cruzada K-Fold y calculando las métricas de rendimiento del modelo."
      ]
    },
    {
      "cell_type": "code",
      "execution_count": 73,
      "metadata": {
        "colab": {
          "base_uri": "https://localhost:8080/"
        },
        "id": "3FKCzY2blpud",
        "outputId": "4c33dc8c-a1ec-47f9-df98-4f257e566143"
      },
      "outputs": [
        {
          "name": "stdout",
          "output_type": "stream",
          "text": [
            "Precisión Promedio: 0.5593478932391348\n",
            "Recall Promedio: 0.277992277992278\n",
            "F1-score Promedio: 0.3709067095462247\n"
          ]
        }
      ],
      "source": [
        "from sklearn.model_selection import KFold\n",
        "from sklearn.metrics import precision_score, recall_score, f1_score\n",
        "from xgboost import XGBClassifier\n",
        "from sklearn.model_selection import cross_validate\n",
        "\n",
        "# Usando KFold para dividir los datos en 5 splits\n",
        "kf = StratifiedKFold(n_splits=5, shuffle=True, random_state=42)\n",
        "splits = kf.split(X_v2, y=y_v2)\n",
        "\n",
        "# Inicializar listas para almacenar las métricas\n",
        "precisions = []\n",
        "recalls = []\n",
        "f1_scores = []\n",
        "\n",
        "xgb = XGBClassifier(random_state=42, enable_categorical = True)\n",
        "\n",
        "# Accede a los índices de formación y validación de splits.\n",
        "for train_index, val_index in splits:\n",
        "    # Configurar los datos de entrenamiento y validación\n",
        "    X_train, y_train = X.iloc[train_index], y.iloc[train_index]\n",
        "    X_val, y_val = X.iloc[val_index], y.iloc[val_index]\n",
        "\n",
        "    # Ajustar el modelo XGBoost\n",
        "    xgb.fit(X_train, y_train)\n",
        "\n",
        "    # Realizar predicciones\n",
        "    predictions = xgb.predict(X_val)\n",
        "\n",
        "    # Calcular precisión, recall y f1-score\n",
        "    precision = precision_score(y_val, predictions)\n",
        "    recall = recall_score(y_val, predictions)\n",
        "    f1 = f1_score(y_val, predictions)\n",
        "\n",
        "    # Agregar métricas a las listas\n",
        "    precisions.append(precision)\n",
        "    recalls.append(recall)\n",
        "    f1_scores.append(f1)\n",
        "\n",
        "# Calcular métricas promedio\n",
        "avg_precision = sum(precisions) / len(precisions)\n",
        "avg_recall = sum(recalls) / len(recalls)\n",
        "avg_f1 = sum(f1_scores) / len(f1_scores)\n",
        "\n",
        "# Imprimir métricas promedio\n",
        "print(\"Precisión Promedio:\", avg_precision)\n",
        "print(\"Recall Promedio:\", avg_recall)\n",
        "print(\"F1-score Promedio:\", avg_f1)"
      ]
    },
    {
      "cell_type": "code",
      "execution_count": 74,
      "metadata": {
        "colab": {
          "base_uri": "https://localhost:8080/"
        },
        "id": "NSMmgxnklvXW",
        "outputId": "b7e437f1-1031-452b-95ec-ca7272ae5059"
      },
      "outputs": [
        {
          "name": "stdout",
          "output_type": "stream",
          "text": [
            "Mean Precision: 0.5548939730520868\n",
            "Mean Recall: 0.28648648648648645\n",
            "Mean F1-score: 0.37768227593585163\n"
          ]
        }
      ],
      "source": [
        "xgb = XGBClassifier(random_state=42, enable_categorical = True)\n",
        "\n",
        "# Definir las métricas durante la validación cruzada\n",
        "scoring = {\n",
        "    'precision': make_scorer(precision_score),\n",
        "    'recall': make_scorer(recall_score),\n",
        "    'f1_score': make_scorer(f1_score)\n",
        "}\n",
        "\n",
        "# Realizar la validación cruzada con las métricas especificadas\n",
        "cv_results = cross_validate(estimator=xgb, X=X_v2, y=y_v2, cv=kf, scoring=scoring)\n",
        "\n",
        "# Imprimir los resultados de la validación cruzada\n",
        "print(\"Mean Precision:\", cv_results['test_precision'].mean())\n",
        "print(\"Mean Recall:\", cv_results['test_recall'].mean())\n",
        "print(\"Mean F1-score:\", cv_results['test_f1_score'].mean())"
      ]
    },
    {
      "cell_type": "markdown",
      "metadata": {
        "id": "c2FTJX2FfPrH"
      },
      "source": [
        "Los resultados del modelo directo muestran una precisión promedio del 58.6%, mientras que el recall promedio es del 28.3%, y el F1-score promedio alcanza el 38.2%. Los resultados de la validación cruzada son comparables, lo que indica consistencia en el desempeño del modelo en diferentes divisiones de los datos de entrenamiento."
      ]
    },
    {
      "cell_type": "code",
      "execution_count": 75,
      "metadata": {
        "colab": {
          "base_uri": "https://localhost:8080/"
        },
        "id": "jgSAn9cC7hof",
        "outputId": "381ddffb-da69-4f86-f9e7-0d2d342ed1c5"
      },
      "outputs": [
        {
          "name": "stdout",
          "output_type": "stream",
          "text": [
            "{'Edad': 878.0, 'euribor3m': 579.0, 'Campana': 345.0, 'Tipo_Trabajo': 325.0, 'Dia': 277.0, 'Educacion': 264.0, 'Mes': 203.0, 'cons_price_idx': 172.0, 'Vivienda': 153.0, 'Estado_Civil': 151.0, 'cons_conf_idx': 137.0, 'No_Contactos': 103.0, 'Dias_Ultima_Camp': 102.0, 'Consumo': 77.0, 'emp_var_rate': 59.0, 'Contacto': 54.0, 'nr_employed': 53.0, 'mora': 43.0, 'Resultado_Anterior': 32.0}\n"
          ]
        }
      ],
      "source": [
        "importance = xgb.fit(X=X_train, y=y_train).get_booster().get_score(importance_type='weight')\n",
        "sorted_dict = dict(sorted(importance.items(), key=lambda item: item[1], reverse=True))\n",
        "print(sorted_dict)"
      ]
    },
    {
      "cell_type": "markdown",
      "metadata": {
        "id": "AAOrEx-sm8X2"
      },
      "source": [
        "El análisis de la importancia de las variables muestra que la \"Edad\", seguida de \"euribor3m\" y \"Campana\", son las más influyentes en el modelo. Esto indica que la edad de los clientes y factores económicos como la tasa Euribor tienen un fuerte impacto en la predicción, mientras que otras variables como el resultado anterior tienen una influencia menor. Este conocimiento puede orientar decisiones sobre qué características son más relevantes para la predicción."
      ]
    },
    {
      "cell_type": "markdown",
      "metadata": {
        "id": "mJ-u6ttMS0mb"
      },
      "source": [
        "### Modelo ExtraTree"
      ]
    },
    {
      "cell_type": "markdown",
      "metadata": {
        "id": "TX78P0fvoKAM"
      },
      "source": [
        "ExtraTrees es un algoritmo de machine learning que construye múltiples árboles de decisión de manera aleatoria, lo que lo hace más rápido y menos propenso al sobreajuste. Lo utilizo en mi modelo siguiendo la consideración anterior del K-Folds Cross Validation para obtener una evaluación robusta del rendimiento del modelo en diferentes conjuntos de datos de entrenamiento y validación."
      ]
    },
    {
      "cell_type": "code",
      "execution_count": 76,
      "metadata": {
        "colab": {
          "base_uri": "https://localhost:8080/"
        },
        "id": "HhR1vWd30IyD",
        "outputId": "d0203e96-b1dd-4966-a65e-385569b706fe"
      },
      "outputs": [
        {
          "name": "stdout",
          "output_type": "stream",
          "text": [
            "Precisión Promedio: 0.4973743596512884\n",
            "Recall Promedio: 0.29034749034749036\n",
            "F1-score Promedio: 0.36643664654814323\n"
          ]
        }
      ],
      "source": [
        "from sklearn.model_selection import KFold\n",
        "from sklearn.ensemble import ExtraTreesClassifier\n",
        "from sklearn.metrics import precision_score, recall_score, f1_score\n",
        "\n",
        "# Usando KFold para dividir los datos en 5 splits\n",
        "kf = StratifiedKFold(n_splits=5, shuffle=True, random_state=42)\n",
        "splits = kf.split(X, y=y)\n",
        "\n",
        "# Inicializar listas para almacenar las métricas\n",
        "precisions = []\n",
        "recalls = []\n",
        "f1_scores = []\n",
        "\n",
        "etc = ExtraTreesClassifier(n_estimators=150, random_state=42)\n",
        "\n",
        "# Acceder a los índices de formación y validación de splits.\n",
        "for train_index, val_index in splits:\n",
        "    # Configurar los datos de entrenamiento y validación.\n",
        "    X_train, y_train = X.iloc[train_index], y.iloc[train_index]\n",
        "    X_val, y_val = X.iloc[val_index], y.iloc[val_index]\n",
        "\n",
        "    # Ajustar el modelo de ExtraTrees\n",
        "    etc.fit(X_train, y_train)\n",
        "\n",
        "    # Realizar predicciones\n",
        "    predictions = etc.predict(X_val)\n",
        "\n",
        "    # Calcular precisión, recall y f1-score\n",
        "    precision = precision_score(y_val, predictions)\n",
        "    recall = recall_score(y_val, predictions)\n",
        "    f1 = f1_score(y_val, predictions)\n",
        "\n",
        "    # Agregar métricas a las listas\n",
        "    precisions.append(precision)\n",
        "    recalls.append(recall)\n",
        "    f1_scores.append(f1)\n",
        "\n",
        "# Calcular métricas promedio\n",
        "avg_precision = sum(precisions) / len(precisions)\n",
        "avg_recall = sum(recalls) / len(recalls)\n",
        "avg_f1 = sum(f1_scores) / len(f1_scores)\n",
        "\n",
        "# Imprimir métricas promedio\n",
        "print(\"Precisión Promedio:\", avg_precision)\n",
        "print(\"Recall Promedio:\", avg_recall)\n",
        "print(\"F1-score Promedio:\", avg_f1)\n"
      ]
    },
    {
      "cell_type": "code",
      "execution_count": 77,
      "metadata": {
        "colab": {
          "base_uri": "https://localhost:8080/"
        },
        "id": "alHOV1v10RTN",
        "outputId": "20cb5ebd-edd2-48ab-8a55-aadaf6cd9e93"
      },
      "outputs": [
        {
          "name": "stdout",
          "output_type": "stream",
          "text": [
            "Mean Accuracy: 0.8875276314938579\n",
            "Mean Recall: 0.29034749034749036\n",
            "Mean F1-score: 0.36643664654814323\n"
          ]
        }
      ],
      "source": [
        "from sklearn.model_selection import cross_validate\n",
        "from sklearn.ensemble import ExtraTreesClassifier\n",
        "\n",
        "# Crear el clasificador ExtraTreesClassifier\n",
        "etc = ExtraTreesClassifier(n_estimators=150, random_state=42)\n",
        "\n",
        "# Definir las métricas que deseas evaluar durante la validación cruzada\n",
        "scoring = {\n",
        "    'accuracy': 'accuracy',\n",
        "    'recall': 'recall',\n",
        "    'f1_score': 'f1'\n",
        "}\n",
        "\n",
        "# Realizar la validación cruzada con las métricas especificadas\n",
        "cv_results = cross_validate(estimator=etc, X=X, y=y, cv=kf, scoring=scoring)\n",
        "\n",
        "# Imprimir los resultados de la validación cruzada\n",
        "print(\"Mean Accuracy:\", cv_results['test_accuracy'].mean())\n",
        "print(\"Mean Recall:\", cv_results['test_recall'].mean())\n",
        "print(\"Mean F1-score:\", cv_results['test_f1_score'].mean())"
      ]
    },
    {
      "cell_type": "markdown",
      "metadata": {
        "id": "E_WEy_idpm9U"
      },
      "source": [
        "\n",
        "Los resultados del modelo ExtraTrees directo muestran una precisión promedio del 49.7%, un recall promedio del 29.0% y un F1-score promedio del 36.6%. Sin embargo, al aplicar la validación cruzada, se observa un aumento significativo en la precisión promedio al 88.8%, manteniendo el recall y el F1-score sin cambios (algo que sucedio tambien en el random forest). Esto sugiere que el modelo puede beneficiarse de una evaluación más robusta utilizando la validación cruzada, lo que ayuda a mitigar el riesgo de sobreajuste y proporciona una estimación más precisa del rendimiento del modelo."
      ]
    },
    {
      "cell_type": "markdown",
      "metadata": {
        "id": "thPPYN6rUG9D"
      },
      "source": [
        "### Modelo Regresión logistica"
      ]
    },
    {
      "cell_type": "markdown",
      "metadata": {
        "id": "R1ZHgB0_qIFT"
      },
      "source": [
        "La regresión logística es un algoritmo de aprendizaje supervisado utilizado para problemas de clasificación binaria, como en nuestro caso que tenemos que determinar si un cliente aceptará una tarjeta de crédito. Funciona modelando la probabilidad de que un resultado pertenezca a una clase particular mediante la aplicación de una función logística a una combinación lineal de las características del cliente."
      ]
    },
    {
      "cell_type": "code",
      "execution_count": 78,
      "metadata": {
        "colab": {
          "base_uri": "https://localhost:8080/"
        },
        "id": "oOA52VibULqu",
        "outputId": "d6a06099-200a-4a79-b657-99ee676fb701"
      },
      "outputs": [
        {
          "name": "stdout",
          "output_type": "stream",
          "text": [
            "Precisión Promedio: 0.28310310517816767\n",
            "Recall Promedio: 0.6718146718146718\n",
            "F1-score Promedio: 0.3983189206298274\n"
          ]
        }
      ],
      "source": [
        "from sklearn.model_selection import KFold\n",
        "from sklearn.linear_model import LogisticRegression\n",
        "from sklearn.metrics import precision_score, recall_score, f1_score\n",
        "from sklearn.preprocessing import StandardScaler\n",
        "\n",
        "# Usando KFold para dividir los datos en 5 splits\n",
        "kf = StratifiedKFold(n_splits=5, shuffle=True, random_state=42)\n",
        "splits = kf.split(X, y=y)\n",
        "\n",
        "# Inicializar listas para almacenar las métricas\n",
        "precisions = []\n",
        "recalls = []\n",
        "f1_scores = []\n",
        "\n",
        "# Crear el clasificador LogisticRegression\n",
        "lr = LogisticRegression(random_state=42, class_weight='balanced', max_iter=1000)\n",
        "\n",
        "# Inicializar el objeto StandardScaler\n",
        "scaler = StandardScaler()\n",
        "\n",
        "# Acceder a los índices de formación y validación de splits.\n",
        "for train_index, val_index in splits:\n",
        "    # Configurar los datos de entrenamiento y validación.\n",
        "    X_train, y_train = X.iloc[train_index], y.iloc[train_index]\n",
        "    X_val, y_val = X.iloc[val_index], y.iloc[val_index]\n",
        "\n",
        "\n",
        "    # Escalar los datos\n",
        "    X_train_scaled = scaler.fit_transform(X_train)\n",
        "    X_val_scaled = scaler.fit_transform(X_val)\n",
        "    \n",
        "    # Ajustar el modelo de ExtraTrees\n",
        "    lr.fit(X_train_scaled, y_train)\n",
        "\n",
        "    # Realizar predicciones\n",
        "    predictions = lr.predict(X_val_scaled)\n",
        "\n",
        "    # Calcular precisión, recall y f1-score\n",
        "    precision = precision_score(y_val, predictions)\n",
        "    recall = recall_score(y_val, predictions)\n",
        "    f1 = f1_score(y_val, predictions)\n",
        "\n",
        "    # Agregar métricas a las listas\n",
        "    precisions.append(precision)\n",
        "    recalls.append(recall)\n",
        "    f1_scores.append(f1)\n",
        "\n",
        "# Calcular métricas promedio\n",
        "avg_precision = sum(precisions) / len(precisions)\n",
        "avg_recall = sum(recalls) / len(recalls)\n",
        "avg_f1 = sum(f1_scores) / len(f1_scores)\n",
        "\n",
        "# Imprimir métricas promedio\n",
        "print(\"Precisión Promedio:\", avg_precision)\n",
        "print(\"Recall Promedio:\", avg_recall)\n",
        "print(\"F1-score Promedio:\", avg_f1)"
      ]
    },
    {
      "cell_type": "code",
      "execution_count": 79,
      "metadata": {
        "colab": {
          "base_uri": "https://localhost:8080/"
        },
        "id": "d_WqMewk5owk",
        "outputId": "91048168-2125-4a17-d5fc-6282753cbfb2"
      },
      "outputs": [
        {
          "name": "stdout",
          "output_type": "stream",
          "text": [
            "Mean Accuracy: 0.7730634430158136\n",
            "Mean Recall: 0.6725868725868726\n",
            "Mean F1-score: 0.39921586211741006\n"
          ]
        }
      ],
      "source": [
        "from sklearn.model_selection import cross_validate\n",
        "from sklearn.linear_model import LogisticRegression\n",
        "\n",
        "# Inicializar el objeto StandardScaler\n",
        "scaler = StandardScaler()\n",
        "\n",
        "# Escalar los datos\n",
        "X_scaled = scaler.fit_transform(X)\n",
        "\n",
        "# Crear el clasificador LogisticRegression\n",
        "lr = LogisticRegression(random_state=0, class_weight='balanced', max_iter=1000)\n",
        "\n",
        "# Definir las métricas que deseas evaluar durante la validación cruzada\n",
        "scoring = {\n",
        "    'accuracy': 'accuracy',\n",
        "    'recall': 'recall',\n",
        "    'f1_score': 'f1'\n",
        "}\n",
        "\n",
        "# Realizar la validación cruzada con las métricas especificadas\n",
        "cv_results = cross_validate(estimator=lr, X=X_scaled, y=y, cv=kf, scoring=scoring)\n",
        "\n",
        "# Imprimir los resultados de la validación cruzada\n",
        "print(\"Mean Accuracy:\", cv_results['test_accuracy'].mean())\n",
        "print(\"Mean Recall:\", cv_results['test_recall'].mean())\n",
        "print(\"Mean F1-score:\", cv_results['test_f1_score'].mean())"
      ]
    },
    {
      "cell_type": "markdown",
      "metadata": {
        "id": "E8ICz74kqqyj"
      },
      "source": [
        "En el método directo, la precisión es baja de 28%, mientras que en la validación cruzada mejora considerablemente al 77%. Sin embargo, el recall y el F1-score se mantienen estables en ambos casos 67% y 39% respectivamente, lo que indica una capacidad consistente del modelo para identificar casos positivos, aunque con un mayor número de falsos positivos en el enfoque directo."
      ]
    },
    {
      "cell_type": "markdown",
      "metadata": {
        "id": "E-NydbIzt1sd"
      },
      "source": [
        "## Exportación de la predicción en los datos test.csv con el mejor modelo"
      ]
    },
    {
      "cell_type": "code",
      "execution_count": 80,
      "metadata": {
        "colab": {
          "base_uri": "https://localhost:8080/",
          "height": 856
        },
        "id": "MeVRiSSbuBQU",
        "outputId": "888fd8cd-80f7-4afd-cab3-e81d0b98ffc4"
      },
      "outputs": [
        {
          "name": "stdout",
          "output_type": "stream",
          "text": [
            "Información de los datos de entrenamiento:\n",
            "<class 'pandas.core.frame.DataFrame'>\n",
            "RangeIndex: 9868 entries, 0 to 9867\n",
            "Data columns (total 20 columns):\n",
            " #   Column              Non-Null Count  Dtype  \n",
            "---  ------              --------------  -----  \n",
            " 0   ID                  9868 non-null   int64  \n",
            " 1   Edad                9868 non-null   int64  \n",
            " 2   Tipo_Trabajo        9868 non-null   object \n",
            " 3   Estado_Civil        9868 non-null   object \n",
            " 4   Educacion           9868 non-null   object \n",
            " 5   mora                9868 non-null   object \n",
            " 6   Vivienda            9868 non-null   object \n",
            " 7   Consumo             9868 non-null   object \n",
            " 8   Contacto            9868 non-null   object \n",
            " 9   Mes                 9868 non-null   object \n",
            " 10  Dia                 9868 non-null   object \n",
            " 11  Campana             9868 non-null   int64  \n",
            " 12  Dias_Ultima_Camp    9868 non-null   int64  \n",
            " 13  No_Contactos        9868 non-null   int64  \n",
            " 14  Resultado_Anterior  9868 non-null   object \n",
            " 15  emp_var_rate        9868 non-null   float64\n",
            " 16  cons_price_idx      9868 non-null   float64\n",
            " 17  cons_conf_idx       9868 non-null   float64\n",
            " 18  euribor3m           9868 non-null   float64\n",
            " 19  nr_employed         9868 non-null   float64\n",
            "dtypes: float64(5), int64(5), object(10)\n",
            "memory usage: 1.5+ MB\n",
            "\n",
            "Primeras filas de los datos de entrenamiento:\n"
          ]
        },
        {
          "data": {
            "text/html": [
              "<div>\n",
              "<style scoped>\n",
              "    .dataframe tbody tr th:only-of-type {\n",
              "        vertical-align: middle;\n",
              "    }\n",
              "\n",
              "    .dataframe tbody tr th {\n",
              "        vertical-align: top;\n",
              "    }\n",
              "\n",
              "    .dataframe thead th {\n",
              "        text-align: right;\n",
              "    }\n",
              "</style>\n",
              "<table border=\"1\" class=\"dataframe\">\n",
              "  <thead>\n",
              "    <tr style=\"text-align: right;\">\n",
              "      <th></th>\n",
              "      <th>ID</th>\n",
              "      <th>Edad</th>\n",
              "      <th>Tipo_Trabajo</th>\n",
              "      <th>Estado_Civil</th>\n",
              "      <th>Educacion</th>\n",
              "      <th>mora</th>\n",
              "      <th>Vivienda</th>\n",
              "      <th>Consumo</th>\n",
              "      <th>Contacto</th>\n",
              "      <th>Mes</th>\n",
              "      <th>Dia</th>\n",
              "      <th>Campana</th>\n",
              "      <th>Dias_Ultima_Camp</th>\n",
              "      <th>No_Contactos</th>\n",
              "      <th>Resultado_Anterior</th>\n",
              "      <th>emp_var_rate</th>\n",
              "      <th>cons_price_idx</th>\n",
              "      <th>cons_conf_idx</th>\n",
              "      <th>euribor3m</th>\n",
              "      <th>nr_employed</th>\n",
              "    </tr>\n",
              "  </thead>\n",
              "  <tbody>\n",
              "    <tr>\n",
              "      <th>0</th>\n",
              "      <td>5</td>\n",
              "      <td>41</td>\n",
              "      <td>empleado</td>\n",
              "      <td>casado</td>\n",
              "      <td>unknown</td>\n",
              "      <td>unknown</td>\n",
              "      <td>no</td>\n",
              "      <td>no</td>\n",
              "      <td>telefono fijo</td>\n",
              "      <td>may</td>\n",
              "      <td>mon</td>\n",
              "      <td>1</td>\n",
              "      <td>999</td>\n",
              "      <td>0</td>\n",
              "      <td>sin contacto</td>\n",
              "      <td>1.1</td>\n",
              "      <td>93994.0</td>\n",
              "      <td>-36.4</td>\n",
              "      <td>4857.0</td>\n",
              "      <td>5191.0</td>\n",
              "    </tr>\n",
              "    <tr>\n",
              "      <th>1</th>\n",
              "      <td>6</td>\n",
              "      <td>24</td>\n",
              "      <td>tecnico</td>\n",
              "      <td>single</td>\n",
              "      <td>Estudiante Universitario</td>\n",
              "      <td>no</td>\n",
              "      <td>si</td>\n",
              "      <td>no</td>\n",
              "      <td>telefono fijo</td>\n",
              "      <td>may</td>\n",
              "      <td>mon</td>\n",
              "      <td>1</td>\n",
              "      <td>999</td>\n",
              "      <td>0</td>\n",
              "      <td>sin contacto</td>\n",
              "      <td>1.1</td>\n",
              "      <td>93994.0</td>\n",
              "      <td>-36.4</td>\n",
              "      <td>4857.0</td>\n",
              "      <td>5191.0</td>\n",
              "    </tr>\n",
              "    <tr>\n",
              "      <th>2</th>\n",
              "      <td>11</td>\n",
              "      <td>57</td>\n",
              "      <td>ama de casa</td>\n",
              "      <td>divorciado</td>\n",
              "      <td>preescolar</td>\n",
              "      <td>no</td>\n",
              "      <td>si</td>\n",
              "      <td>no</td>\n",
              "      <td>telefono fijo</td>\n",
              "      <td>may</td>\n",
              "      <td>mon</td>\n",
              "      <td>1</td>\n",
              "      <td>999</td>\n",
              "      <td>0</td>\n",
              "      <td>sin contacto</td>\n",
              "      <td>1.1</td>\n",
              "      <td>93994.0</td>\n",
              "      <td>-36.4</td>\n",
              "      <td>4857.0</td>\n",
              "      <td>5191.0</td>\n",
              "    </tr>\n",
              "    <tr>\n",
              "      <th>3</th>\n",
              "      <td>13</td>\n",
              "      <td>54</td>\n",
              "      <td>pensionado</td>\n",
              "      <td>casado</td>\n",
              "      <td>bachillerato incompleto</td>\n",
              "      <td>unknown</td>\n",
              "      <td>si</td>\n",
              "      <td>si</td>\n",
              "      <td>telefono fijo</td>\n",
              "      <td>may</td>\n",
              "      <td>mon</td>\n",
              "      <td>1</td>\n",
              "      <td>999</td>\n",
              "      <td>0</td>\n",
              "      <td>sin contacto</td>\n",
              "      <td>1.1</td>\n",
              "      <td>93994.0</td>\n",
              "      <td>-36.4</td>\n",
              "      <td>4857.0</td>\n",
              "      <td>5191.0</td>\n",
              "    </tr>\n",
              "    <tr>\n",
              "      <th>4</th>\n",
              "      <td>16</td>\n",
              "      <td>39</td>\n",
              "      <td>Vive de los arriendos</td>\n",
              "      <td>single</td>\n",
              "      <td>bachillerato incompleto</td>\n",
              "      <td>unknown</td>\n",
              "      <td>no</td>\n",
              "      <td>no</td>\n",
              "      <td>telefono fijo</td>\n",
              "      <td>may</td>\n",
              "      <td>mon</td>\n",
              "      <td>1</td>\n",
              "      <td>999</td>\n",
              "      <td>0</td>\n",
              "      <td>sin contacto</td>\n",
              "      <td>1.1</td>\n",
              "      <td>93994.0</td>\n",
              "      <td>-36.4</td>\n",
              "      <td>4857.0</td>\n",
              "      <td>5191.0</td>\n",
              "    </tr>\n",
              "  </tbody>\n",
              "</table>\n",
              "</div>"
            ],
            "text/plain": [
              "   ID  Edad           Tipo_Trabajo Estado_Civil                 Educacion  \\\n",
              "0   5    41               empleado       casado                   unknown   \n",
              "1   6    24                tecnico       single  Estudiante Universitario   \n",
              "2  11    57            ama de casa   divorciado                preescolar   \n",
              "3  13    54             pensionado       casado   bachillerato incompleto   \n",
              "4  16    39  Vive de los arriendos       single   bachillerato incompleto   \n",
              "\n",
              "      mora Vivienda Consumo       Contacto  Mes  Dia  Campana  \\\n",
              "0  unknown       no      no  telefono fijo  may  mon        1   \n",
              "1       no       si      no  telefono fijo  may  mon        1   \n",
              "2       no       si      no  telefono fijo  may  mon        1   \n",
              "3  unknown       si      si  telefono fijo  may  mon        1   \n",
              "4  unknown       no      no  telefono fijo  may  mon        1   \n",
              "\n",
              "   Dias_Ultima_Camp  No_Contactos Resultado_Anterior  emp_var_rate  \\\n",
              "0               999             0       sin contacto           1.1   \n",
              "1               999             0       sin contacto           1.1   \n",
              "2               999             0       sin contacto           1.1   \n",
              "3               999             0       sin contacto           1.1   \n",
              "4               999             0       sin contacto           1.1   \n",
              "\n",
              "   cons_price_idx  cons_conf_idx  euribor3m  nr_employed  \n",
              "0         93994.0          -36.4     4857.0       5191.0  \n",
              "1         93994.0          -36.4     4857.0       5191.0  \n",
              "2         93994.0          -36.4     4857.0       5191.0  \n",
              "3         93994.0          -36.4     4857.0       5191.0  \n",
              "4         93994.0          -36.4     4857.0       5191.0  "
            ]
          },
          "execution_count": 80,
          "metadata": {},
          "output_type": "execute_result"
        }
      ],
      "source": [
        "# Cargar los datos de entrenamiento\n",
        "test_data = pd.read_csv('../data/insumo/test.csv')\n",
        "\n",
        "# Explorar los datos de entrenamiento\n",
        "print(\"Información de los datos de entrenamiento:\")\n",
        "test_data.info()\n",
        "print(\"\\nPrimeras filas de los datos de entrenamiento:\")\n",
        "test_data.head()"
      ]
    },
    {
      "cell_type": "code",
      "execution_count": 81,
      "metadata": {
        "id": "ZzoT8TDDuAMf"
      },
      "outputs": [],
      "source": [
        "# Codificar variables categóricas en los datos de entrenamiento\n",
        "label_encoder = LabelEncoder()\n",
        "categorical_columns = ['Tipo_Trabajo', 'Estado_Civil', 'Educacion', 'mora', 'Vivienda', 'Consumo', 'Contacto', 'Mes', 'Dia', 'Resultado_Anterior']\n",
        "for column in categorical_columns:\n",
        "    test_data[column] = label_encoder.fit_transform(test_data[column])\n",
        "\n",
        "# Separar características y variable objetivo en los datos de entrenamiento\n",
        "X_test = test_data.drop('ID', axis=1)"
      ]
    },
    {
      "cell_type": "code",
      "execution_count": 82,
      "metadata": {
        "colab": {
          "base_uri": "https://localhost:8080/"
        },
        "id": "2Gjz-KJByM9N",
        "outputId": "6fbd964d-c58e-406b-ffbf-dcad952ec802"
      },
      "outputs": [
        {
          "data": {
            "text/plain": [
              "0           5\n",
              "1           6\n",
              "2          11\n",
              "3          13\n",
              "4          16\n",
              "        ...  \n",
              "9863    32941\n",
              "9864    32946\n",
              "9865    32952\n",
              "9866    32958\n",
              "9867    32961\n",
              "Name: ID, Length: 9868, dtype: int64"
            ]
          },
          "execution_count": 82,
          "metadata": {},
          "output_type": "execute_result"
        }
      ],
      "source": [
        "test_ids = test_data['ID']\n",
        "test_ids"
      ]
    },
    {
      "cell_type": "code",
      "execution_count": 84,
      "metadata": {},
      "outputs": [
        {
          "name": "stdout",
          "output_type": "stream",
          "text": [
            "Precisión Promedio: 0.6274024167791368\n",
            "Recall Promedio: 0.2579150579150579\n",
            "F1-score Promedio: 0.36530129312319637\n"
          ]
        }
      ],
      "source": [
        "from sklearn.ensemble import RandomForestClassifier\n",
        "from sklearn.metrics import precision_score, recall_score, f1_score\n",
        "\n",
        "# Usando KFold para dividir los datos en 5 splits\n",
        "kf = StratifiedKFold(n_splits=5, shuffle=True, random_state=42)\n",
        "splits = kf.split(X, y=y)\n",
        "\n",
        "# Inicializar listas para almacenar las métricas\n",
        "precisions = []\n",
        "recalls = []\n",
        "f1_scores = []\n",
        "\n",
        "rfc = RandomForestClassifier(n_estimators=150, max_depth=15, min_samples_split=8, min_samples_leaf=2, random_state=42)\n",
        "\n",
        "# Accede a los índices de formación y validación de splits.\n",
        "for train_index, val_index in splits:\n",
        "    # Configurar los datos de entrenamiento y validación.\n",
        "    X_train, y_train = X.iloc[train_index], y.iloc[train_index]\n",
        "    X_val, y_val = X.iloc[val_index], y.iloc[val_index]\n",
        "\n",
        "    # Ajustar el modelo de random forest\n",
        "    rfc.fit(X_train, y_train)\n",
        "\n",
        "    # Realizar predicciones\n",
        "    predictions = rfc.predict(X_val)\n",
        "\n",
        "    # Calcular precisión, recall y f1-score\n",
        "    precision = precision_score(y_val, predictions)\n",
        "    recall = recall_score(y_val, predictions)\n",
        "    f1 = f1_score(y_true=y_val, y_pred=predictions)\n",
        "\n",
        "    # Agregar métricas a las listas\n",
        "    precisions.append(precision)\n",
        "    recalls.append(recall)\n",
        "    f1_scores.append(f1)\n",
        "\n",
        "# Calcular métricas promedio\n",
        "avg_precision = sum(precisions) / len(precisions)\n",
        "avg_recall = sum(recalls) / len(recalls)\n",
        "avg_f1 = sum(f1_scores) / len(f1_scores)\n",
        "\n",
        "# Imprimir métricas promedio\n",
        "print(\"Precisión Promedio:\", avg_precision)\n",
        "print(\"Recall Promedio:\", avg_recall)\n",
        "print(\"F1-score Promedio:\", avg_f1)"
      ]
    },
    {
      "cell_type": "code",
      "execution_count": 85,
      "metadata": {
        "colab": {
          "base_uri": "https://localhost:8080/"
        },
        "id": "OVoTIJqivle0",
        "outputId": "c7abb527-d1f8-4723-b1b8-3db2e1c02736"
      },
      "outputs": [
        {
          "data": {
            "text/plain": [
              "array([0, 0, 0, ..., 0, 0, 1], dtype=int64)"
            ]
          },
          "execution_count": 85,
          "metadata": {},
          "output_type": "execute_result"
        }
      ],
      "source": [
        "# Hacer predicciones con el modelo Random Forest\n",
        "test_predictions = rfc.predict(X_test)\n",
        "test_predictions"
      ]
    },
    {
      "cell_type": "code",
      "execution_count": 87,
      "metadata": {
        "id": "am4PbSFew5hC"
      },
      "outputs": [],
      "source": [
        "import pandas as pd\n",
        "# Crear un DataFrame con las predicciones y los identificadores\n",
        "predictions_df = pd.DataFrame({'ID':test_ids, 'Prediccion':test_predictions})\n",
        "\n",
        "# Guardar el DataFrame en un archivo CSV\n",
        "predictions_df.to_csv('..\\data\\salida\\predicciones.csv', index=False)"
      ]
    },
    {
      "cell_type": "markdown",
      "metadata": {
        "id": "VcGIsoupsA3A"
      },
      "source": [
        "## Conclusiones"
      ]
    },
    {
      "cell_type": "markdown",
      "metadata": {
        "id": "Eo1sTIZisEAZ"
      },
      "source": [
        "* La aplicación de la validación cruzada en este caso la k-folds cross validation proporciona una evaluación más robusta del rendimiento del modelo, revelando diferencias significativas en comparación con los resultados del enfoque directo.\n",
        "\n",
        "* La exploración de varios modelos, como Random Forest, XGBoost, ExtraTree y Regresión Logística, muestra un enfoque integral para abordar el problema de clasificación de clientes para la aceptación de tarjetas de crédito.\n",
        "\n",
        "* Basándonos en las métricas de evaluación el mejor modelo parece ser Random Forest, tanto en el enfoque directo como en la validación cruzada. Este modelo muestra una precisión promedio considerablemente más alta y un F1-score ligeramente mejor que los otros modelos en ambos casos. Además, su rendimiento en la validación cruzada es consistente y muestra un buen equilibrio entre precisión y recall.\n",
        "\n",
        "* Aunque se han logrado niveles de precisión razonables en algunos modelos, como Random Forest, se observa que otros, como Regresión Logística, tienen un rendimiento significativamente inferior. Esto sugiere la complejidad del problema y la necesidad de seguir explorando y mejorando los modelos para obtener resultados más consistentes\n",
        "\n",
        "* El análisis de la importancia de las características me revelo insights interesantes, como el impacto inesperado de la variable 'ID' en los modelos sabiendo apriori que esto no deberia suceder, por esa razón opte por eliminar esa columna desde el principio.\n",
        "\n",
        "* El desbalance de clases en los datos de entrenamiento aprox 2100 en 0 y 2500 en 1 ha impactado el rendimiento del modelo, especialmente en métricas como el F1-score y el recall. Esta discrepancia se refleja en el número reducido de predicciones positivas en el conjunto de pruebas en comparación con el total de ejemplos. Es recomendable aumentar los datos de entrenamiento que reflejen y mejor balance de las clases y asi poder mejorar la generalización del modelo.\n"
      ]
    }
  ],
  "metadata": {
    "colab": {
      "provenance": []
    },
    "kernelspec": {
      "display_name": "Python 3",
      "name": "python3"
    },
    "language_info": {
      "codemirror_mode": {
        "name": "ipython",
        "version": 3
      },
      "file_extension": ".py",
      "mimetype": "text/x-python",
      "name": "python",
      "nbconvert_exporter": "python",
      "pygments_lexer": "ipython3",
      "version": "3.11.9"
    }
  },
  "nbformat": 4,
  "nbformat_minor": 0
}
